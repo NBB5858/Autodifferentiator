{
 "cells": [
  {
   "cell_type": "code",
   "execution_count": 23,
   "id": "6ac97a5f-a23f-49bf-b2e5-3f1358712ce9",
   "metadata": {},
   "outputs": [],
   "source": [
    "import torchvision\n",
    "from torchvision import transforms #Torch is only used to load FashionMNIST data\n",
    "import numpy as np\n",
    "\n",
    "import autodiff as ad\n",
    "\n"
   ]
  },
  {
   "cell_type": "markdown",
   "id": "0fd5ee56-c90f-48e9-9095-662bb5fbbada",
   "metadata": {},
   "source": [
    "# Examples"
   ]
  },
  {
   "cell_type": "markdown",
   "id": "c6ecf382-f0c0-4633-8af3-a4031664a427",
   "metadata": {},
   "source": [
    "### Basic operations"
   ]
  },
  {
   "cell_type": "code",
   "execution_count": 24,
   "id": "c05b6b80-2257-4227-b989-1110ad3b75c4",
   "metadata": {},
   "outputs": [
    {
     "data": {
      "text/plain": [
       "{add10/['add9', 'c1'],\n",
       " add11/['add10', 'c7'],\n",
       " add9/['v1', 'mul3'],\n",
       " c1/9,\n",
       " c7/7,\n",
       " mul3/['v2', 'v1'],\n",
       " v1/7,\n",
       " v2/8}"
      ]
     },
     "execution_count": 24,
     "metadata": {},
     "output_type": "execute_result"
    }
   ],
   "source": [
    "v1 = ad.Variable(7, 'v1')\n",
    "v2 = ad.Variable(8, 'v2')\n",
    "c1 = ad.Constant(9, 'c1')\n",
    "\n",
    "L = v1 + v2*v1 + c1 + 7\n",
    "\n",
    "L.return_children()"
   ]
  },
  {
   "cell_type": "markdown",
   "id": "9de27bcb-6bf3-41ab-97f1-6a51a3215bbf",
   "metadata": {},
   "source": [
    "### Topological sort"
   ]
  },
  {
   "cell_type": "code",
   "execution_count": 25,
   "id": "1a70a107-2bdb-4e15-a1eb-40e7de9e313f",
   "metadata": {},
   "outputs": [
    {
     "data": {
      "text/plain": [
       "[v1/7,\n",
       " v2/8,\n",
       " mul3/['v2', 'v1'],\n",
       " add9/['v1', 'mul3'],\n",
       " c1/9,\n",
       " add10/['add9', 'c1'],\n",
       " c7/7,\n",
       " add11/['add10', 'c7']]"
      ]
     },
     "execution_count": 25,
     "metadata": {},
     "output_type": "execute_result"
    }
   ],
   "source": [
    "L.set_ordering()\n",
    "L.ordering"
   ]
  },
  {
   "cell_type": "markdown",
   "id": "e329c61d-91af-4890-b674-26814fff7277",
   "metadata": {},
   "source": [
    "### Backward pass"
   ]
  },
  {
   "cell_type": "code",
   "execution_count": 26,
   "id": "5d5dec01-7a70-49a5-bf61-cccaeacdaccc",
   "metadata": {},
   "outputs": [
    {
     "data": {
      "text/plain": [
       "{'v1': 9,\n",
       " 'v2': 7,\n",
       " 'mul3': 1,\n",
       " 'add9': 1,\n",
       " 'c1': 1,\n",
       " 'add10': 1,\n",
       " 'c7': 1,\n",
       " 'add11': 1}"
      ]
     },
     "execution_count": 26,
     "metadata": {},
     "output_type": "execute_result"
    }
   ],
   "source": [
    "L.backward_pass()"
   ]
  },
  {
   "cell_type": "markdown",
   "id": "798fda38-2b88-4c07-80e5-b9be53d0e0fb",
   "metadata": {},
   "source": [
    "### Tensor contractions"
   ]
  },
  {
   "cell_type": "code",
   "execution_count": 27,
   "id": "0a7432da-330a-46b0-af23-f6320cf58d54",
   "metadata": {},
   "outputs": [
    {
     "data": {
      "text/plain": [
       "{'A': array([[[   55.,   145.,   235.,   325.,   415.],\n",
       "         [  505.,   595.,   685.,   775.,   865.],\n",
       "         [  955.,  1045.,  1135.,  1225.,  1315.],\n",
       "         [ 1405.,  1495.,  1585.,  1675.,  1765.]],\n",
       " \n",
       "        [[  145.,   451.,   757.,  1063.,  1369.],\n",
       "         [ 1675.,  1981.,  2287.,  2593.,  2899.],\n",
       "         [ 3205.,  3511.,  3817.,  4123.,  4429.],\n",
       "         [ 4735.,  5041.,  5347.,  5653.,  5959.]],\n",
       " \n",
       "        [[  235.,   757.,  1279.,  1801.,  2323.],\n",
       "         [ 2845.,  3367.,  3889.,  4411.,  4933.],\n",
       "         [ 5455.,  5977.,  6499.,  7021.,  7543.],\n",
       "         [ 8065.,  8587.,  9109.,  9631., 10153.]]]),\n",
       " 'B': array([[[ 600.,  660.,  720.,  780.,  840.,  900.],\n",
       "         [ 618.,  681.,  744.,  807.,  870.,  933.],\n",
       "         [ 636.,  702.,  768.,  834.,  900.,  966.],\n",
       "         [ 654.,  723.,  792.,  861.,  930.,  999.],\n",
       "         [ 672.,  744.,  816.,  888.,  960., 1032.]],\n",
       " \n",
       "        [[ 690.,  765.,  840.,  915.,  990., 1065.],\n",
       "         [ 708.,  786.,  864.,  942., 1020., 1098.],\n",
       "         [ 726.,  807.,  888.,  969., 1050., 1131.],\n",
       "         [ 744.,  828.,  912.,  996., 1080., 1164.],\n",
       "         [ 762.,  849.,  936., 1023., 1110., 1197.]],\n",
       " \n",
       "        [[ 780.,  870.,  960., 1050., 1140., 1230.],\n",
       "         [ 798.,  891.,  984., 1077., 1170., 1263.],\n",
       "         [ 816.,  912., 1008., 1104., 1200., 1296.],\n",
       "         [ 834.,  933., 1032., 1131., 1230., 1329.],\n",
       "         [ 852.,  954., 1056., 1158., 1260., 1362.]],\n",
       " \n",
       "        [[ 870.,  975., 1080., 1185., 1290., 1395.],\n",
       "         [ 888.,  996., 1104., 1212., 1320., 1428.],\n",
       "         [ 906., 1017., 1128., 1239., 1350., 1461.],\n",
       "         [ 924., 1038., 1152., 1266., 1380., 1494.],\n",
       "         [ 942., 1059., 1176., 1293., 1410., 1527.]]]),\n",
       " 'tensorcontract8': array([[ 0,  1,  2,  3,  4,  5],\n",
       "        [ 6,  7,  8,  9, 10, 11],\n",
       "        [12, 13, 14, 15, 16, 17]]),\n",
       " 'C': array([[14820., 15010., 15200., 15390., 15580., 15770.],\n",
       "        [37620., 38210., 38800., 39390., 39980., 40570.],\n",
       "        [60420., 61410., 62400., 63390., 64380., 65370.]]),\n",
       " 'tensorcontract9': 1}"
      ]
     },
     "execution_count": 27,
     "metadata": {},
     "output_type": "execute_result"
    }
   ],
   "source": [
    "A = ad.Variable(np.arange(60.).reshape(3,4,5), 'A')\n",
    "B = ad.Variable(np.arange(120.).reshape(4,5,6), 'B')\n",
    "C = ad.Variable(np.arange(18).reshape(3,6), 'C')\n",
    "\n",
    "Q = ad.tensorcontract(A, B, axes=([1, 2], [0, 1]))\n",
    "\n",
    "L = ad.tensorcontract(Q, C, axes=([0], [0]))\n",
    "\n",
    "L.set_ordering()\n",
    "L.backward_pass()"
   ]
  },
  {
   "cell_type": "markdown",
   "id": "9a6eb84d-c592-46e0-9892-79cb147ddb0c",
   "metadata": {},
   "source": [
    "# Logistic regression model for FashionMNIST"
   ]
  },
  {
   "cell_type": "markdown",
   "id": "f1e0ba2c-9016-4dd2-819c-dcb683ac6a1b",
   "metadata": {},
   "source": [
    "### Data set"
   ]
  },
  {
   "cell_type": "code",
   "execution_count": 28,
   "id": "02c02439-c6ad-4441-b14b-65c034a382f7",
   "metadata": {},
   "outputs": [],
   "source": [
    "class FashionMNIST:\n",
    "    \n",
    "    def __init__(self, batch_size=32, resize=(28, 28)):\n",
    "        self.root = '/Users/noahbittermann/PycharmProjects/d2l-implementations'\n",
    "        self.batch_size = batch_size\n",
    "        self.resize = resize\n",
    "        trans = transforms.Compose([transforms.Resize(self.resize), transforms.ToTensor()])\n",
    "        self.torch_train = torchvision.datasets.FashionMNIST(root=self.root, train=True, transform=trans, download=True)\n",
    "        self.torch_val = torchvision.datasets.FashionMNIST(root=self.root, train=False, transform=trans, download=True)\n",
    "\n",
    "    def text_labels(self, indices):\n",
    "        \"\"\"Return text labels.\"\"\"\n",
    "        labels = ['t-shirt', 'trouser', 'pullover', 'dress', 'coat',\n",
    "                  'sandal', 'shirt', 'sneaker', 'bag', 'ankle boot']\n",
    "        return [labels[int(i)] for i in indices]\n",
    "\n",
    "    def torch_to_numpy(self):\n",
    "        \n",
    "        train_inputs = np.zeros((len(self.torch_train), self.resize[0], self.resize[1]))\n",
    "        train_labels = np.zeros(len(self.torch_train), dtype=int)\n",
    "\n",
    "        val_inputs = np.zeros((len(self.torch_val), self.resize[0], self.resize[1]))\n",
    "        val_labels = np.zeros(len(self.torch_val), dtype=int)\n",
    "        \n",
    "        for index, observation in enumerate(self.torch_train):\n",
    "            train_inputs[index] = observation[0]\n",
    "            train_labels[index] = int(observation[1])\n",
    "\n",
    "        for index, observation in enumerate(self.torch_val):\n",
    "            val_inputs[index] = observation[0]\n",
    "            val_labels[index] = int(observation[1])\n",
    "\n",
    "        self.train_inputs = train_inputs\n",
    "        self.train_labels = train_labels\n",
    "        \n",
    "        self.val_inputs = val_inputs\n",
    "        self.val_labels = val_labels\n",
    "   "
   ]
  },
  {
   "cell_type": "markdown",
   "id": "74b6a8b8-f17c-4e39-ae6d-92a38f0f4f15",
   "metadata": {},
   "source": [
    "### Model"
   ]
  },
  {
   "cell_type": "code",
   "execution_count": 29,
   "id": "53b60be4-4899-4460-bff3-45547c8e86df",
   "metadata": {},
   "outputs": [],
   "source": [
    "class SoftmaxRegression:\n",
    "\n",
    "    def __init__(self, batch_size, num_features, num_classes, lr, sigma=0.01):    \n",
    "\n",
    "        self.batch_size = batch_size\n",
    "        self.num_features = num_features\n",
    "        self.num_classes = num_classes\n",
    "        self.lr = lr\n",
    "\n",
    "        self.params = {\n",
    "            'W': ad.Variable(np.random.normal(loc=0, scale=sigma, size=(self.num_features, self.num_classes)), 'W'),\n",
    "            'b': ad.Variable(np.zeros((1, num_classes)), 'b')\n",
    "        }\n",
    "\n",
    "        \n",
    "    def forward(self, train_inputs):\n",
    "        '''Takes in numpy array of inputs'''\n",
    "        \n",
    "        X = ad.Constant(train_inputs.reshape(-1, self.num_features), 'inputs')\n",
    "        \n",
    "        affine_trans = ad.tensorcontract(X, self.params['W'], axes=([1], [0])) + self.params['b']\n",
    "        \n",
    "        logprobs = ad.logsoft(affine_trans)\n",
    "        \n",
    "        return logprobs\n",
    "\n",
    "    def loss(self, y, y_hat):\n",
    "        return ad.cross_entropy(y, y_hat)*(1/len(y))\n",
    "        \n",
    "\n",
    "    def inference(self, inputs):\n",
    "\n",
    "        Y_hat = self.forward(inputs).value\n",
    "\n",
    "        predictions = Y_hat.argmax(axis=1)\n",
    "\n",
    "        return predictions\n",
    "\n",
    "    def accuracy(self, Y, inputs):\n",
    "\n",
    "        predictions = self.inference(inputs)\n",
    "\n",
    "        compare = predictions == Y\n",
    "\n",
    "        return compare.mean()\n"
   ]
  },
  {
   "cell_type": "markdown",
   "id": "6f0edf63-2765-4fe7-86ef-440926c10620",
   "metadata": {},
   "source": [
    "### Optimizer"
   ]
  },
  {
   "cell_type": "code",
   "execution_count": 30,
   "id": "abe1b80e-b0c7-4485-a13c-921229fe5d02",
   "metadata": {},
   "outputs": [],
   "source": [
    "## Define the trainer\n",
    "\n",
    "class SGD_optimizer:\n",
    "    \n",
    "    def step(self, model, L):\n",
    "        L.set_ordering()\n",
    "        L.backward_pass()\n",
    "        for key in model.params:\n",
    "            model.params[key].value -= model.lr * model.params[key].gradient\n",
    "            \n",
    "\n",
    "    def zero_grad(self, model):\n",
    "        for key in model.params:\n",
    "            if model.params[key].gradient is not None:\n",
    "                model.params[key].gradient = None\n",
    "        \n",
    "    "
   ]
  },
  {
   "cell_type": "markdown",
   "id": "7a1e5075-a852-4a95-9453-f9019d255b24",
   "metadata": {},
   "source": [
    "### Trainer"
   ]
  },
  {
   "cell_type": "code",
   "execution_count": 32,
   "id": "dd7a76c9-22e9-44f8-84fc-da6335628e7e",
   "metadata": {},
   "outputs": [],
   "source": [
    "\n",
    "class Trainer:\n",
    "    \n",
    "    def __init__(self, gradient_clip_val=0):\n",
    "        \n",
    "        self.gradient_clip_val = gradient_clip_val\n",
    "\n",
    "    \n",
    "    def fit(self, model, data, max_epochs):\n",
    "\n",
    "        #format data\n",
    "        data.torch_to_numpy()\n",
    "\n",
    "        #load data\n",
    "        num_batches = int(np.ceil(data.train_inputs.shape[0] / data.batch_size))\n",
    "        \n",
    "        self.train_input_loader = [data.train_inputs[i*data.batch_size: (i + 1)*data.batch_size] for i in range(num_batches)]\n",
    "        self.train_label_loader = [data.train_labels[i*data.batch_size: (i + 1)*data.batch_size] for i in range(num_batches)]\n",
    "\n",
    "        self.val_input_loader = [data.val_inputs[i*data.batch_size: (i + 1)*data.batch_size] for i in range(num_batches)]\n",
    "        self.val_label_loader = [data.val_labels[i*data.batch_size: (i + 1)*data.batch_size] for i in range(num_batches)]\n",
    "\n",
    "        #initialize the optimizer\n",
    "        self.optimizer = SGD_optimizer()\n",
    "        \n",
    "        train_losses = []\n",
    "        train_accuracies = []\n",
    "\n",
    "        val_losses = []\n",
    "        val_accuracies = []\n",
    "        \n",
    "        self.epoch = 0\n",
    "        for epoch in range(max_epochs):\n",
    "\n",
    "            running_loss = 0 \n",
    "            running_accuracy = 0\n",
    "            for i in range(num_batches):\n",
    "\n",
    "                train_L = model.loss(self.train_label_loader[i], model.forward(self.train_input_loader[i]))\n",
    "                \n",
    "                self.optimizer.step(model, train_L)\n",
    "                self.optimizer.zero_grad(model)\n",
    "\n",
    "                running_loss += train_L.value / num_batches\n",
    "                running_accuracy += model.accuracy(self.train_label_loader[i], self.train_input_loader[i]) / num_batches\n",
    "\n",
    "\n",
    "            train_losses.append(running_loss)\n",
    "            train_accuracies.append(running_accuracy)\n",
    "            \n",
    "            val_L = model.loss(data.val_labels, model.forward(data.val_inputs))\n",
    "            val_losses.append(val_L.value)\n",
    "\n",
    "            val_accuracy = model.accuracy(data.val_labels, data.val_inputs)\n",
    "            val_accuracies.append(val_accuracy)\n",
    "\n",
    "            \n",
    "            print(f'epoch {epoch + 1}/{max_epochs}, train loss: {np.round(running_loss, 4)}, val loss: {np.round(val_L.value, 4)}, train accuracy:  {np.round(running_accuracy, 4)}, val accuracy: {np.round(val_accuracy, 4)}', end='\\r')\n",
    "\n",
    "            running_loss = 0\n",
    "            running_accuracy = 0\n",
    "\n",
    "        return train_losses, val_losses, train_accuracies, val_accuracies\n",
    "                "
   ]
  },
  {
   "cell_type": "markdown",
   "id": "35c00d72-cbda-4cf0-a5e8-842663de4780",
   "metadata": {},
   "source": [
    "### Initialize the data set, model, and trainer"
   ]
  },
  {
   "cell_type": "code",
   "execution_count": 33,
   "id": "c11a7337-9332-4727-a4b4-8cbc93f4dad1",
   "metadata": {},
   "outputs": [],
   "source": [
    "img_size = (28,28)\n",
    "batch_size = 32\n",
    "\n",
    "FashionData = FashionMNIST(batch_size=batch_size, resize=img_size)\n",
    "\n",
    "FashionModel = SoftmaxRegression(batch_size=batch_size, num_features=img_size[0]*img_size[1], num_classes=10, lr=0.01)\n",
    "\n",
    "FashionTrainer = Trainer()"
   ]
  },
  {
   "cell_type": "markdown",
   "id": "374b8f70-828b-4bec-8628-d67bedac5f13",
   "metadata": {},
   "source": [
    "### Fit to the data"
   ]
  },
  {
   "cell_type": "code",
   "execution_count": 34,
   "id": "39556858-29c6-4838-8c91-06be417996a2",
   "metadata": {},
   "outputs": [
    {
     "name": "stdout",
     "output_type": "stream",
     "text": [
      "epoch 100/100, train loss: 0.3818, val loss: 0.4363, train accuracy:  0.8723, val accuracy: 0.8447\r"
     ]
    }
   ],
   "source": [
    "history = FashionTrainer.fit(FashionModel, FashionData, 100)"
   ]
  },
  {
   "cell_type": "markdown",
   "id": "02be2e38-c193-464a-aecb-73e40fc06ebc",
   "metadata": {},
   "source": [
    "### Plot metrics"
   ]
  },
  {
   "cell_type": "code",
   "execution_count": 35,
   "id": "5214768d-8179-4019-aec9-ed6c752b0c1c",
   "metadata": {},
   "outputs": [
    {
     "data": {
      "text/plain": [
       "Text(0.5, 1.0, 'accuracy')"
      ]
     },
     "execution_count": 35,
     "metadata": {},
     "output_type": "execute_result"
    },
    {
     "data": {
      "image/png": "[encoded data removed]",
      "text/plain": [
       "<Figure size 2000x500 with 2 Axes>"
      ]
     },
     "metadata": {},
     "output_type": "display_data"
    }
   ],
   "source": [
    "import matplotlib.pyplot as plt\n",
    "\n",
    "f, (ax1, ax2) = plt.subplots(1, 2, figsize = (20, 5))\n",
    "ax1.plot(history[0], label = 'training')\n",
    "ax1.plot(history[1], label = 'validation')\n",
    "ax2.plot(history[2], label = 'training')\n",
    "ax2.plot(history[3], label = 'validation')\n",
    "ax1.legend()\n",
    "ax2.legend()\n",
    "\n",
    "ax1.set_title('loss')\n",
    "ax2.set_title('accuracy')\n"
   ]
  },
  {
   "cell_type": "code",
   "execution_count": null,
   "id": "5e4aa5d3-88aa-4166-bcfd-33e0d7c63530",
   "metadata": {},
   "outputs": [],
   "source": []
  }
 ],
 "metadata": {
  "kernelspec": {
   "display_name": "Python 3 (ipykernel)",
   "language": "python",
   "name": "python3"
  },
  "language_info": {
   "codemirror_mode": {
    "name": "ipython",
    "version": 3
   },
   "file_extension": ".py",
   "mimetype": "text/x-python",
   "name": "python",
   "nbconvert_exporter": "python",
   "pygments_lexer": "ipython3",
   "version": "3.11.5"
  }
 },
 "nbformat": 4,
 "nbformat_minor": 5
}
